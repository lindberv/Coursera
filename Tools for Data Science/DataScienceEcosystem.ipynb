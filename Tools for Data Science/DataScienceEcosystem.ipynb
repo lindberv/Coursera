{
 "cells": [
  {
   "cell_type": "markdown",
   "id": "ea81e6b6-5388-496a-b0ca-668abc1de5b2",
   "metadata": {},
   "source": [
    "# Data Science Tools and Ecosystem"
   ]
  },
  {
   "cell_type": "markdown",
   "id": "bc2566ed-3877-4bb0-9226-d8309d7af77a",
   "metadata": {},
   "source": [
    "In this notebook, Data Science Tools and Ecosystem are summarized."
   ]
  },
  {
   "cell_type": "markdown",
   "id": "0030cfba-b245-42e5-aaf1-5b799459b240",
   "metadata": {},
   "source": [
    "__Objectives:__\n",
    "* List popular programming languages for data science\n",
    "* List libraries commonly used in data science\n",
    "* List data science tools\n",
    "* Show simple arithmetic expressions in Python"
   ]
  },
  {
   "cell_type": "markdown",
   "id": "83a12f8f-61ef-4e0d-9f7f-c64191855621",
   "metadata": {},
   "source": [
    "Some of the popular languages that Data Scientists use are:\n",
    "1. R\n",
    "2. Python\n",
    "3. Julia"
   ]
  },
  {
   "cell_type": "markdown",
   "id": "9046c14b-1a4f-4095-911b-4a66a3de96f4",
   "metadata": {},
   "source": [
    "Some of the commonly used libraries used by Data Scientists include:\n",
    "1. TensorFlow\n",
    "2. NumPy\n",
    "3. SciPy\n",
    "4. Pandas\n",
    "5. Matplotlib\n",
    "6. Keras\n",
    "7. SciKit-Learn\n",
    "8. PyTorch"
   ]
  },
  {
   "cell_type": "markdown",
   "id": "40fc8f9f-5844-4768-9669-9c392a57515b",
   "metadata": {},
   "source": [
    "| Data Science Tools |\n",
    "| ------ |\n",
    "| Apache Spark |\n",
    "| Apache Hadoop |\n",
    "| Apache Kafka |\n",
    "| Tableau |\n",
    "| Power BI |\n"
   ]
  },
  {
   "cell_type": "markdown",
   "id": "a4d3dd64-c7e9-4c25-82ec-3817ab28bab0",
   "metadata": {},
   "source": [
    "### Below are a few examples of evaluating arithmetic expressions in Python"
   ]
  },
  {
   "cell_type": "code",
   "execution_count": 1,
   "id": "82980722-cdc3-43bc-9b78-908d8c27d7de",
   "metadata": {},
   "outputs": [
    {
     "data": {
      "text/plain": [
       "17"
      ]
     },
     "execution_count": 1,
     "metadata": {},
     "output_type": "execute_result"
    }
   ],
   "source": [
    "# This a simple arithmetic expression to mutiply then add integers\n",
    "(3*4)+5"
   ]
  },
  {
   "cell_type": "code",
   "execution_count": 2,
   "id": "a7ad3765-2e25-498b-ab24-c66871a701d7",
   "metadata": {},
   "outputs": [
    {
     "data": {
      "text/plain": [
       "3.3333333333333335"
      ]
     },
     "execution_count": 2,
     "metadata": {},
     "output_type": "execute_result"
    }
   ],
   "source": [
    "# This will convert 200 minutes to hours by diving by 60\n",
    "200/60"
   ]
  },
  {
   "cell_type": "markdown",
   "id": "b5caea13-8176-41e9-97a2-e6f78533e34d",
   "metadata": {},
   "source": [
    "## Author ##\n",
    "Ville Lindberg"
   ]
  },
  {
   "cell_type": "code",
   "execution_count": null,
   "id": "3eb699c4-6ccb-4c0e-b54d-bc8c8c8b9e77",
   "metadata": {},
   "outputs": [],
   "source": []
  }
 ],
 "metadata": {
  "kernelspec": {
   "display_name": "Python 3 (ipykernel)",
   "language": "python",
   "name": "python3"
  },
  "language_info": {
   "codemirror_mode": {
    "name": "ipython",
    "version": 3
   },
   "file_extension": ".py",
   "mimetype": "text/x-python",
   "name": "python",
   "nbconvert_exporter": "python",
   "pygments_lexer": "ipython3",
   "version": "3.11.9"
  }
 },
 "nbformat": 4,
 "nbformat_minor": 5
}
